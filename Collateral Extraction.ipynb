{
 "cells": [
  {
   "cell_type": "code",
   "execution_count": 1,
   "metadata": {},
   "outputs": [
    {
     "name": "stdout",
     "output_type": "stream",
     "text": [
      "WARNING:tensorflow:From /Users/mohitshah/Projects/documents-caf/extractors/QANet/layers.py:52: calling reduce_mean (from tensorflow.python.ops.math_ops) with keep_dims is deprecated and will be removed in a future version.\n",
      "Instructions for updating:\n",
      "keep_dims is deprecated, use keepdims instead\n",
      "WARNING:tensorflow:From /Users/mohitshah/Projects/documents-caf/extractors/QANet/model.py:135: calling softmax (from tensorflow.python.ops.nn_ops) with dim is deprecated and will be removed in a future version.\n",
      "Instructions for updating:\n",
      "dim is deprecated, use axis instead\n",
      "WARNING:tensorflow:From /Users/mohitshah/Projects/documents-caf/extractors/QANet/model.py:181: softmax_cross_entropy_with_logits (from tensorflow.python.ops.nn_ops) is deprecated and will be removed in a future version.\n",
      "Instructions for updating:\n",
      "\n",
      "Future major versions of TensorFlow will allow gradients to flow\n",
      "into the labels input on backprop by default.\n",
      "\n",
      "See tf.nn.softmax_cross_entropy_with_logits_v2.\n",
      "\n",
      "Total number of trainable parameters: 788673\n",
      "INFO:tensorflow:Restoring parameters from /Users/mohitshah/Others/FRC-model-pretrained-master/FRC/model/model_60000.ckpt\n"
     ]
    }
   ],
   "source": [
    "import extractors.extractor as extractor\n",
    "data_dir = \"../../Others/FRC-model-pretrained-master\"\n",
    "module = extractor.Extractor(data_dir, data_dir, \"FRC\")"
   ]
  },
  {
   "cell_type": "code",
   "execution_count": 2,
   "metadata": {},
   "outputs": [],
   "source": [
    "module.set_defs(\"./definitions/defs.json\")"
   ]
  },
  {
   "cell_type": "code",
   "execution_count": 3,
   "metadata": {},
   "outputs": [],
   "source": [
    "# module.set_json(\"/Users/mohitshah/Projects/documents-caf/tmp/appraisal/appraisal.json\")\n",
    "module.set_json(\"/Users/mohitshah/Projects/documents-caf/tmp/536210_SF_Industrial_Building/536210_SF_Industrial_Building.json\")"
   ]
  },
  {
   "cell_type": "code",
   "execution_count": 4,
   "metadata": {},
   "outputs": [],
   "source": [
    "result = module.extract()"
   ]
  },
  {
   "cell_type": "code",
   "execution_count": 5,
   "metadata": {},
   "outputs": [
    {
     "name": "stdout",
     "output_type": "stream",
     "text": [
      "                              Name  \\\n",
      "0                    Property Name   \n",
      "1                Property Location   \n",
      "2              Asset/WR/Tracking #   \n",
      "3                              APN   \n",
      "4                     Intended Use   \n",
      "5                   Date of Report   \n",
      "6               Date of Inspection   \n",
      "7                       Site Shape   \n",
      "8                  Site Topography   \n",
      "9              Gross Building Area   \n",
      "10                   No. Buildings   \n",
      "11                     No. Stories   \n",
      "12                   Property Type   \n",
      "13                          Zoning   \n",
      "14                      Year Built   \n",
      "15                      Actual Age   \n",
      "16                   Effective Age   \n",
      "17             Total Economic Life   \n",
      "18         Remaining Economic Life   \n",
      "19       Sales Comparison Approach   \n",
      "20  Income Capitalization Approach   \n",
      "21                    Market Value   \n",
      "22                   Date of Value   \n",
      "23                  Occupancy Type   \n",
      "\n",
      "                                                Value    Type  Method  \\\n",
      "0                   Single-Tenant Industrial Building    text  search   \n",
      "1          1355 Donner Avenue San Francisco, CA 94124  entity  search   \n",
      "2                               10020559/536210/*0679    text  search   \n",
      "3                                                None    None  search   \n",
      "4                                            INTENDED    text  search   \n",
      "5                                   September 5, 2017  entity  search   \n",
      "6                                     August 24, 2017  entity  search   \n",
      "7                                         Rectangular    text  search   \n",
      "8                              Level, At Street Grade    text  search   \n",
      "9                                            7,500 SF  entity  search   \n",
      "10                                                  1  entity  search   \n",
      "11                                                  1  entity  search   \n",
      "12                           Property Type Industrial    text  search   \n",
      "13          PDR-2 - Production, Distribution & Repair    text  search   \n",
      "14                                               1979  entity  search   \n",
      "15                                           38 Years  entity  search   \n",
      "16                                           15 Years  entity  search   \n",
      "17                                           45 Years  entity  search   \n",
      "18                                           30 Years  entity  search   \n",
      "19                                         $2,400,000  entity  search   \n",
      "20                                         $2,390,000  entity  search   \n",
      "21                                               None    None  search   \n",
      "22                                               None    None  search   \n",
      "23  Occupancy Type Owner/User Exterior Finish Masonry    text  search   \n",
      "\n",
      "       Region                                             Source  Page  \\\n",
      "0         key    Property Name Single-Tenant Industrial Building     8   \n",
      "1         key  Address 1355 Donner Avenue San Francisco, CA 9...    51   \n",
      "2         key      Client Reference Number 10020559/536210/*0679     8   \n",
      "3        None                                               None  None   \n",
      "4   paragraph  INTENDED USE OF REPORT This appraisal is to be...    11   \n",
      "5         key                   Date of Report September 5, 2017     8   \n",
      "6         key                 Date of Inspection August 24, 2017     8   \n",
      "7         key                                  Shape Rectangular    21   \n",
      "8         key                  Topography Level, At Street Grade    21   \n",
      "9         key                       Gross Building Area 7,500 SF     8   \n",
      "10        key                              Number of Buildings 1     8   \n",
      "11        key                                Number of Stories 1     8   \n",
      "12  paragraph  Property Type Industrial (Warehouse/Distribution)     8   \n",
      "13        key  Zoning District PDR-2 - Production, Distributi...    21   \n",
      "14        key                                    Year Built 1979     8   \n",
      "15        key                                Actual Age 38 Years    24   \n",
      "16        key                             Effective Age 15 Years    24   \n",
      "17        key                       Total Economic Life 45 Years    24   \n",
      "18        key                   Remaining Economic Life 30 Years    24   \n",
      "19        key               Sales Comparison Approach $2,400,000    45   \n",
      "20        key          Income Capitalization Approach $2,390,000    45   \n",
      "21       None                                               None  None   \n",
      "22       None                                               None  None   \n",
      "23  paragraph  Occupancy Type Owner/User Exterior Finish Masonry    51   \n",
      "\n",
      "                Group                            Term  \n",
      "0     General Details                   property name  \n",
      "1     General Details                         address  \n",
      "2     General Details         client reference number  \n",
      "3     General Details                            None  \n",
      "4     General Details                    intended use  \n",
      "5     General Details                  date of report  \n",
      "6     General Details              date of inspection  \n",
      "7    Site Description                           shape  \n",
      "8    Site Description                      topography  \n",
      "9    Site Description                   building area  \n",
      "10   Site Description             number of buildings  \n",
      "11   Site Description               number of stories  \n",
      "12   Site Description                   property type  \n",
      "13   Site Description                          zoning  \n",
      "14  Site Improvements                      year built  \n",
      "15  Site Improvements                      actual age  \n",
      "16  Site Improvements                   effective age  \n",
      "17  Site Improvements             total economic life  \n",
      "18  Site Improvements         remaining economic life  \n",
      "19  Valuation Details       sales comparison approach  \n",
      "20  Valuation Details  income capitalization approach  \n",
      "21  Valuation Details                            None  \n",
      "22  Valuation Details                            None  \n",
      "23  Occupancy Details                  occupancy type  \n"
     ]
    }
   ],
   "source": [
    "print (result)"
   ]
  },
  {
   "cell_type": "code",
   "execution_count": null,
   "metadata": {},
   "outputs": [],
   "source": []
  }
 ],
 "metadata": {
  "kernelspec": {
   "display_name": "Python 3",
   "language": "python",
   "name": "python3"
  },
  "language_info": {
   "codemirror_mode": {
    "name": "ipython",
    "version": 3
   },
   "file_extension": ".py",
   "mimetype": "text/x-python",
   "name": "python",
   "nbconvert_exporter": "python",
   "pygments_lexer": "ipython3",
   "version": "3.6.5"
  }
 },
 "nbformat": 4,
 "nbformat_minor": 2
}
